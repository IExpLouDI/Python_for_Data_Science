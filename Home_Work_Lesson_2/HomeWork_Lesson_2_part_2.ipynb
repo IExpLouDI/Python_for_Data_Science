{
 "cells": [
  {
   "cell_type": "markdown",
   "id": "13c0819e-5d0a-41c4-a041-15c9e880b1bb",
   "metadata": {},
   "source": [
    "#### Task 1\n",
    "- Создать одномерный массив Numpy под названием a из 12 последовательных целых чисел чисел от 12 до 24 невключительно\n"
   ]
  },
  {
   "cell_type": "code",
   "execution_count": 3,
   "id": "fcd5e50a-dbf4-4841-be15-a9442d1fcdee",
   "metadata": {},
   "outputs": [],
   "source": [
    "import numpy as np\n",
    "import pandas as pd"
   ]
  },
  {
   "cell_type": "code",
   "execution_count": 4,
   "id": "de853abc-a5ba-4dde-a15b-919969161452",
   "metadata": {},
   "outputs": [
    {
     "data": {
      "text/plain": [
       "array([12, 13, 14, 15, 16, 17, 18, 19, 20, 21, 22, 23])"
      ]
     },
     "execution_count": 4,
     "metadata": {},
     "output_type": "execute_result"
    }
   ],
   "source": [
    "a = np.arange(12, 24)\n",
    "a"
   ]
  },
  {
   "cell_type": "markdown",
   "id": "2a1104f4-b9d8-4144-9884-25e69060e267",
   "metadata": {},
   "source": [
    "#### Task 2\n",
    "- Создать 5 двумерных массивов разной формы из массива a. \n",
    "- Не использовать в аргументах метода reshape число -1.\n"
   ]
  },
  {
   "cell_type": "code",
   "execution_count": 5,
   "id": "03a120d0-69b5-4b3e-89d3-ddfede83c7dd",
   "metadata": {},
   "outputs": [
    {
     "data": {
      "text/plain": [
       "(array([[12, 13, 14, 15],\n",
       "        [16, 17, 18, 19],\n",
       "        [20, 21, 22, 23]]),\n",
       " array([[12, 13, 14],\n",
       "        [15, 16, 17],\n",
       "        [18, 19, 20],\n",
       "        [21, 22, 23]]),\n",
       " array([[12, 13, 14, 15, 16, 17],\n",
       "        [18, 19, 20, 21, 22, 23]]),\n",
       " array([[12],\n",
       "        [13],\n",
       "        [14],\n",
       "        [15],\n",
       "        [16],\n",
       "        [17],\n",
       "        [18],\n",
       "        [19],\n",
       "        [20],\n",
       "        [21],\n",
       "        [22],\n",
       "        [23]]),\n",
       " array([[12, 13],\n",
       "        [14, 15],\n",
       "        [16, 17],\n",
       "        [18, 19],\n",
       "        [20, 21],\n",
       "        [22, 23]]))"
      ]
     },
     "execution_count": 5,
     "metadata": {},
     "output_type": "execute_result"
    }
   ],
   "source": [
    "a1 = np.reshape(a, (3, 4))\n",
    "a2 = np.resize(a, (4, 3))\n",
    "a3 = np.resize(a, (2, 6))\n",
    "a4 = np.resize(a, (12, 1))\n",
    "a5 = np.resize(a, (6, 2))\n",
    "a1, a2, a3, a4, a5"
   ]
  },
  {
   "cell_type": "markdown",
   "id": "e156bc99-b6c3-4f71-a930-56ad084ee8e9",
   "metadata": {},
   "source": [
    "#### Task 3\n",
    "- Создать 5 двумерных массивов разной формы из массива a. \n",
    "- Использовать в аргументах метода reshape число -1 (в трех примерах - для обозначения числа столбцов, в двух - для строк).\n"
   ]
  },
  {
   "cell_type": "code",
   "execution_count": 6,
   "id": "cdc131a3",
   "metadata": {},
   "outputs": [
    {
     "data": {
      "text/plain": [
       "(array([[12, 13, 14, 15, 16, 17],\n",
       "        [18, 19, 20, 21, 22, 23]]),\n",
       " array([[12, 13, 14, 15],\n",
       "        [16, 17, 18, 19],\n",
       "        [20, 21, 22, 23]]),\n",
       " array([[12, 13, 14],\n",
       "        [15, 16, 17],\n",
       "        [18, 19, 20],\n",
       "        [21, 22, 23]]),\n",
       " array([[12, 13],\n",
       "        [14, 15],\n",
       "        [16, 17],\n",
       "        [18, 19],\n",
       "        [20, 21],\n",
       "        [22, 23]]),\n",
       " array([[12, 13, 14, 15],\n",
       "        [16, 17, 18, 19],\n",
       "        [20, 21, 22, 23]]))"
      ]
     },
     "execution_count": 6,
     "metadata": {},
     "output_type": "execute_result"
    }
   ],
   "source": [
    "a1 = np.reshape(a, (2, -1))\n",
    "a2 = np.reshape(a, (3, -1))\n",
    "a3 = np.reshape(a, (4, -1))\n",
    "a4 = np.reshape(a, (-1, 2))\n",
    "a5 = np.reshape(a, (-1, 4))\n",
    "a1, a2, a3, a4, a5"
   ]
  },
  {
   "cell_type": "markdown",
   "id": "a29fd3c1-8191-4835-abb1-163fba088403",
   "metadata": {},
   "source": [
    "#### Task 4\n",
    "- Можно ли массив Numpy, состоящий из одного столбца и 12 строк, назвать одномерным?\n"
   ]
  },
  {
   "cell_type": "code",
   "execution_count": 7,
   "id": "ca44d5e5",
   "metadata": {},
   "outputs": [
    {
     "data": {
      "text/plain": [
       "(12, 1)"
      ]
     },
     "execution_count": 7,
     "metadata": {},
     "output_type": "execute_result"
    }
   ],
   "source": [
    "np.array([[1], [2], [3], [4], [5], [6], [7], [8], [9], [10], [11], [12]]).shape"
   ]
  },
  {
   "cell_type": "markdown",
   "id": "4c53175d",
   "metadata": {},
   "source": [
    "Массив назвать одномерным нельзя, так как для доступа к ячейке требуется две координаты."
   ]
  },
  {
   "cell_type": "markdown",
   "id": "8f966d41-ab5b-4bc7-91e7-2e1cc4be8b68",
   "metadata": {},
   "source": [
    "#### Task 5\n",
    "- Создать массив из 3 строк и 4 столбцов, состоящий из случайных чисел с плавающей запятой из нормального распределения со средним, равным 0 и среднеквадратичным отклонением, равным 1.0. \n",
    "- Получить из этого массива одномерный массив с таким же атрибутом size, как и исходный массив.\n"
   ]
  },
  {
   "cell_type": "code",
   "execution_count": 8,
   "id": "b3a4f0d1-8f4c-417a-94a5-a44f61090d96",
   "metadata": {},
   "outputs": [
    {
     "data": {
      "text/plain": [
       "(array([[ 2.54267212,  0.1932531 ,  0.93142071,  0.42320092],\n",
       "        [-0.11422199, -0.70867933, -1.75763564, -0.00968638],\n",
       "        [ 0.24656914,  0.67120586, -0.4387993 , -0.70354908]]),\n",
       " 12)"
      ]
     },
     "execution_count": 8,
     "metadata": {},
     "output_type": "execute_result"
    }
   ],
   "source": [
    "rand_a = np.random.randn(3, 4)\n",
    "rand_a, rand_a.size"
   ]
  },
  {
   "cell_type": "code",
   "execution_count": 9,
   "id": "1d7c6e6f-5ea6-4c4e-924e-b4c24914f32f",
   "metadata": {},
   "outputs": [
    {
     "data": {
      "text/plain": [
       "12"
      ]
     },
     "execution_count": 9,
     "metadata": {},
     "output_type": "execute_result"
    }
   ],
   "source": [
    "rand_a.reshape(12).size"
   ]
  },
  {
   "cell_type": "markdown",
   "id": "40f3e4ad-1fbc-4bfe-be1e-7029feb4a091",
   "metadata": {},
   "source": [
    "#### Task 6\n",
    "- Создать массив a, состоящий из целых чисел, убывающих от 20 до 0 невключительно с интервалом 2.\n"
   ]
  },
  {
   "cell_type": "code",
   "execution_count": 10,
   "id": "c4cec810-659a-4814-a2ec-c468227d1454",
   "metadata": {},
   "outputs": [
    {
     "data": {
      "text/plain": [
       "array([20, 18, 16, 14, 12, 10,  8,  6,  4,  2])"
      ]
     },
     "execution_count": 10,
     "metadata": {},
     "output_type": "execute_result"
    }
   ],
   "source": [
    "a = np.arange(20, 0, -2)\n",
    "a"
   ]
  },
  {
   "cell_type": "markdown",
   "id": "b1b3d0b3-9dca-4df6-b712-d0ea380b5124",
   "metadata": {},
   "source": [
    "#### Task 7\n",
    "- Создать массив b, состоящий из 1 строки и 10 столбцов: целых чисел, убывающих от 20 до 1 невключительно с интервалом 2. \n",
    "- В чем разница между массивами a и b?\n"
   ]
  },
  {
   "cell_type": "code",
   "execution_count": 11,
   "id": "075c3845-e7b6-43ab-9cc3-0a73219d718c",
   "metadata": {},
   "outputs": [
    {
     "data": {
      "text/plain": [
       "array([20, 18, 16, 14, 12, 10,  8,  6,  4,  2])"
      ]
     },
     "execution_count": 11,
     "metadata": {},
     "output_type": "execute_result"
    }
   ],
   "source": [
    "b = np.arange(20, 1, -2)\n",
    "b"
   ]
  },
  {
   "cell_type": "code",
   "execution_count": 12,
   "id": "6b79b073-d130-4a12-affc-74055a3ef4a6",
   "metadata": {},
   "outputs": [
    {
     "data": {
      "text/plain": [
       "array([ True,  True,  True,  True,  True,  True,  True,  True,  True,\n",
       "        True])"
      ]
     },
     "execution_count": 12,
     "metadata": {},
     "output_type": "execute_result"
    }
   ],
   "source": [
    "a == b"
   ]
  },
  {
   "cell_type": "markdown",
   "id": "e9a5f3d1",
   "metadata": {},
   "source": [
    "Разницы между массивами - нет."
   ]
  },
  {
   "cell_type": "markdown",
   "id": "c1e92ad1-4382-439a-a5d0-3bd01fc2a56e",
   "metadata": {},
   "source": [
    "#### Task 8\n",
    "- Вертикально соединить массивы a и b. \n",
    "- a - двумерный массив из нулей, число строк которого больше 1 и на 1 меньше, чем число строк двумерного массива b, состоящего из единиц. \n",
    "- Итоговый массив v должен иметь атрибут size, равный 10.\n"
   ]
  },
  {
   "cell_type": "code",
   "execution_count": 61,
   "id": "5d811caf-d6a3-4867-8655-a88bf11a8b46",
   "metadata": {},
   "outputs": [
    {
     "data": {
      "text/plain": [
       "10"
      ]
     },
     "execution_count": 61,
     "metadata": {},
     "output_type": "execute_result"
    }
   ],
   "source": [
    "a = np.zeros((2, 2))\n",
    "b = np.ones((3, 2))\n",
    "c = np.vstack((a, b))\n",
    "c.size"
   ]
  },
  {
   "cell_type": "markdown",
   "id": "a1c9704d-c49c-4425-8bbe-8eb3ea2783f1",
   "metadata": {},
   "source": [
    "#### Task 9\n",
    "- Создать одномерный массив а, состоящий из последовательности целых чисел от 0 до 12. \n",
    "- Поменять форму этого массива, чтобы получилась матрица A (двумерный массив Numpy), состоящая из 4 строк и 3 столбцов. \n",
    "- Получить матрицу At путем транспонирования матрицы A. \n",
    "- Получить матрицу B, умножив матрицу A на матрицу At с помощью матричного умножения. \n",
    "- Какой размер имеет матрица B? \n",
    "- Получится ли вычислить обратную матрицу для матрицы B и почему?\n"
   ]
  },
  {
   "cell_type": "code",
   "execution_count": 17,
   "id": "4177d9cc-e9ad-479b-8d68-c224d0b5e744",
   "metadata": {},
   "outputs": [
    {
     "data": {
      "text/plain": [
       "array([ 0,  1,  2,  3,  4,  5,  6,  7,  8,  9, 10, 11])"
      ]
     },
     "execution_count": 17,
     "metadata": {},
     "output_type": "execute_result"
    }
   ],
   "source": [
    "A = np.arange(0, 12)\n",
    "A"
   ]
  },
  {
   "cell_type": "code",
   "execution_count": 18,
   "id": "ef304118-768f-4b88-9221-50d729c2c1df",
   "metadata": {},
   "outputs": [
    {
     "data": {
      "text/plain": [
       "array([[ 0,  1,  2],\n",
       "       [ 3,  4,  5],\n",
       "       [ 6,  7,  8],\n",
       "       [ 9, 10, 11]])"
      ]
     },
     "execution_count": 18,
     "metadata": {},
     "output_type": "execute_result"
    }
   ],
   "source": [
    "A = A.reshape(4, 3)\n",
    "A"
   ]
  },
  {
   "cell_type": "code",
   "execution_count": 19,
   "id": "95fa06f5-159d-4ea9-805f-aa80dc72dffb",
   "metadata": {},
   "outputs": [
    {
     "data": {
      "text/plain": [
       "array([[ 0,  3,  6,  9],\n",
       "       [ 1,  4,  7, 10],\n",
       "       [ 2,  5,  8, 11]])"
      ]
     },
     "execution_count": 19,
     "metadata": {},
     "output_type": "execute_result"
    }
   ],
   "source": [
    "AT = A.T\n",
    "AT"
   ]
  },
  {
   "cell_type": "code",
   "execution_count": 20,
   "id": "66d7eeb0-d696-4a7a-a0ec-6aa2d90bfa19",
   "metadata": {},
   "outputs": [
    {
     "data": {
      "text/plain": [
       "array([[  5,  14,  23,  32],\n",
       "       [ 14,  50,  86, 122],\n",
       "       [ 23,  86, 149, 212],\n",
       "       [ 32, 122, 212, 302]])"
      ]
     },
     "execution_count": 20,
     "metadata": {},
     "output_type": "execute_result"
    }
   ],
   "source": [
    "B = A @ AT\n",
    "B"
   ]
  },
  {
   "cell_type": "code",
   "execution_count": 21,
   "id": "9c7c5a0c-b7a2-4949-b42d-3379cf844efb",
   "metadata": {},
   "outputs": [
    {
     "data": {
      "text/plain": [
       "((4, 4), 0.0)"
      ]
     },
     "execution_count": 21,
     "metadata": {},
     "output_type": "execute_result"
    }
   ],
   "source": [
    "B.shape, np.linalg.det(B)"
   ]
  },
  {
   "cell_type": "markdown",
   "id": "89b523cf-fd47-4849-9315-584a0cfa1809",
   "metadata": {},
   "source": [
    "Обратную матрицу найти не получится, так как определитель матрицы B равен 0. "
   ]
  },
  {
   "cell_type": "markdown",
   "id": "62a4a1a4-7545-4be7-916f-5d6a75b59d77",
   "metadata": {},
   "source": [
    "#### Task 10\n",
    "- Инициализируйте генератор случайных чисел с помощью объекта seed, равного 42."
   ]
  },
  {
   "cell_type": "code",
   "execution_count": 22,
   "id": "67cb6e10-ed17-4e0d-b1dc-208ba738bb88",
   "metadata": {},
   "outputs": [],
   "source": [
    "np.random.seed(42)"
   ]
  },
  {
   "cell_type": "markdown",
   "id": "de8aa7af-4345-4140-8900-8ae59ea3fda6",
   "metadata": {},
   "source": [
    "#### Task 11\n",
    "- Создайте одномерный массив c, составленный из последовательности 16-ти случайных равномерно распределенных целых чисел от 0 до 16 невключительно."
   ]
  },
  {
   "cell_type": "code",
   "execution_count": 23,
   "id": "74432af9-a651-4204-bbed-329b67f9bd7a",
   "metadata": {},
   "outputs": [
    {
     "data": {
      "text/plain": [
       "array([[ 6,  3, 12, 14, 10,  7, 12,  4,  6,  9,  2,  6, 10, 10,  7,  4]])"
      ]
     },
     "execution_count": 23,
     "metadata": {},
     "output_type": "execute_result"
    }
   ],
   "source": [
    "C = np.random.randint(0, 16, (1, 16))\n",
    "C"
   ]
  },
  {
   "cell_type": "markdown",
   "id": "42bf8d9f-9378-4c52-a924-c6eb01209e7e",
   "metadata": {},
   "source": [
    "#### Task 12\n",
    "- Поменяйте его форму так, чтобы получилась квадратная матрица C. \n",
    "- Получите матрицу D, поэлементно прибавив матрицу B из предыдущего вопроса к матрице C, умноженной на 10. \n",
    "- Вычислите определитель, ранг и обратную матрицу D_inv для D.\n"
   ]
  },
  {
   "cell_type": "code",
   "execution_count": 24,
   "id": "55ba11c4-bc17-4c04-a634-74b9b1fa39ad",
   "metadata": {},
   "outputs": [
    {
     "data": {
      "text/plain": [
       "array([[ 6,  3, 12, 14],\n",
       "       [10,  7, 12,  4],\n",
       "       [ 6,  9,  2,  6],\n",
       "       [10, 10,  7,  4]])"
      ]
     },
     "execution_count": 24,
     "metadata": {},
     "output_type": "execute_result"
    }
   ],
   "source": [
    "C = C.reshape(4, 4)\n",
    "C"
   ]
  },
  {
   "cell_type": "code",
   "execution_count": 25,
   "id": "c3998edf-f9ad-49aa-b65c-612c060bcaba",
   "metadata": {},
   "outputs": [
    {
     "data": {
      "text/plain": [
       "array([[ 65,  44, 143, 172],\n",
       "       [114, 120, 206, 162],\n",
       "       [ 83, 176, 169, 272],\n",
       "       [132, 222, 282, 342]])"
      ]
     },
     "execution_count": 25,
     "metadata": {},
     "output_type": "execute_result"
    }
   ],
   "source": [
    "D = 10 * C + B\n",
    "D"
   ]
  },
  {
   "cell_type": "code",
   "execution_count": 26,
   "id": "6fc01e35-3b0e-4836-80f3-871bf115d8f2",
   "metadata": {},
   "outputs": [
    {
     "name": "stdout",
     "output_type": "stream",
     "text": [
      "Определитель матрицы D = -28511999.999999944;\n",
      "Ранг матрицы D = 4;\n",
      "Обратная матрица:\n",
      "[[ 0.00935396  0.04486532  0.05897517 -0.07286055]\n",
      " [-0.01503577 -0.00122896 -0.00192971  0.00967873]\n",
      " [-0.00356692 -0.01782828 -0.04152146  0.04326178]\n",
      " [ 0.00909091 -0.00181818  0.01272727 -0.01090909]]\n"
     ]
    }
   ],
   "source": [
    "det_D = np.linalg.det(D)\n",
    "rang_D = np.linalg.matrix_rank(D)\n",
    "inv_D = np.linalg.inv(D)\n",
    "print(f'Определитель матрицы D = {det_D};\\nРанг матрицы D = {rang_D};\\nОбратная матрица:\\n{inv_D}')"
   ]
  },
  {
   "cell_type": "markdown",
   "id": "9223372b-5f6a-4618-aafa-436184c5340e",
   "metadata": {},
   "source": [
    "#### Task 13\n",
    "- Приравняйте к нулю отрицательные числа в матрице D_inv, а положительные - к единице. \n",
    "- Убедитесь, что в матрице D_inv остались только нули и единицы. \n",
    "- С помощью функции numpy.where, используя матрицу D_inv в качестве маски, а матрицы B и C - в качестве источников данных, получите матрицу E размером 4x4.  \n",
    "- Элементы матрицы E, для которых соответствующий элемент матрицы D_inv равен 1, должны быть равны соответствующему элементу матрицы B, \n",
    "- а элементы матрицы E, для которых соответствующий элемент матрицы D_inv равен 0, должны быть равны соответствующему элементу матрицы C.\n"
   ]
  },
  {
   "cell_type": "code",
   "execution_count": 27,
   "id": "ee13a6cd-e23d-42fc-a126-a7337ecc408b",
   "metadata": {},
   "outputs": [
    {
     "data": {
      "text/plain": [
       "array([[1., 1., 1., 0.],\n",
       "       [0., 0., 0., 1.],\n",
       "       [0., 0., 0., 1.],\n",
       "       [1., 0., 1., 0.]])"
      ]
     },
     "execution_count": 27,
     "metadata": {},
     "output_type": "execute_result"
    }
   ],
   "source": [
    "inv_D[inv_D > 0] = 1\n",
    "inv_D[inv_D < 0] = 0\n",
    "inv_D"
   ]
  },
  {
   "cell_type": "code",
   "execution_count": 28,
   "id": "e4eb9e30-4ab6-4a18-920a-34eb4dd02e33",
   "metadata": {},
   "outputs": [
    {
     "data": {
      "text/plain": [
       "array([[  5,  14,  23,  14],\n",
       "       [ 10,   7,  12, 122],\n",
       "       [  6,   9,   2, 212],\n",
       "       [ 32,  10, 212,   4]])"
      ]
     },
     "execution_count": 28,
     "metadata": {},
     "output_type": "execute_result"
    }
   ],
   "source": [
    "E = np.where(inv_D, B, C)\n",
    "E"
   ]
  }
 ],
 "metadata": {
  "kernelspec": {
   "display_name": "Python 3",
   "language": "python",
   "name": "python3"
  },
  "language_info": {
   "codemirror_mode": {
    "name": "ipython",
    "version": 3
   },
   "file_extension": ".py",
   "mimetype": "text/x-python",
   "name": "python",
   "nbconvert_exporter": "python",
   "pygments_lexer": "ipython3",
   "version": "3.9.6"
  }
 },
 "nbformat": 4,
 "nbformat_minor": 5
}
